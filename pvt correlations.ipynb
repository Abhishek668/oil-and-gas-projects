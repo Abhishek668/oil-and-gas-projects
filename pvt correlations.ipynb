{
 "cells": [
  {
   "cell_type": "code",
   "execution_count": 1,
   "id": "28c56fa3",
   "metadata": {},
   "outputs": [],
   "source": [
    "import numpy as np\n",
    "import matplotlib.pyplot as plt\n",
    "import pandas as pd\n",
    "\n",
    "from __future__ import print_function\n",
    "from ipywidgets import interact, interactive, fixed, interact_manual, ToggleButtons\n",
    "import ipywidgets as widgets"
   ]
  },
  {
   "cell_type": "code",
   "execution_count": 2,
   "id": "2f0fb158",
   "metadata": {},
   "outputs": [],
   "source": [
    "import sys\n",
    "sys.path.append('pvtcorrelation')\n",
    "\n",
    "from pvtcorrelation import *"
   ]
  },
  {
   "cell_type": "markdown",
   "id": "49098d99",
   "metadata": {},
   "source": [
    "### Gas\n",
    "#### Input to gas PVT are:\n",
    "\n",
    "#### pressure: Pressure (psia)\n",
    "#### temp: Temperature (°F)\n",
    "#### sg: Specific gravity\n",
    "#### x_h2s: H2S mole fraction in gas\n",
    "#### x_co2: CO2 mole fraction in gas"
   ]
  },
  {
   "cell_type": "code",
   "execution_count": 3,
   "id": "e8f57bea",
   "metadata": {},
   "outputs": [
    {
     "name": "stdout",
     "output_type": "stream",
     "text": [
      "Help on function gas_compressibility in module pvtcorrelation:\n",
      "\n",
      "gas_compressibility(T_pr, P_pr, rho_pr, z, P_pc)\n",
      "    Calculate Gas Isothermal Compressibility\n",
      "    For range: unspecified\n",
      "    (Trube, 1957; Mattar, 1975)\n",
      "\n"
     ]
    }
   ],
   "source": [
    "help(gas_compressibility)"
   ]
  },
  {
   "cell_type": "code",
   "execution_count": 4,
   "id": "d8d0ad33",
   "metadata": {},
   "outputs": [
    {
     "name": "stdout",
     "output_type": "stream",
     "text": [
      "=== Gas PVT Correlation Calculator === \n",
      "\n",
      "Your Input:\n",
      "Pressure                   : 2010 psia\n",
      "Temperature                : 110 °F\n",
      "Specific Gravity           : 0.5\n",
      "H2S Mole Fraction          : 0.07\n",
      "CO2 Mole Fraction          : 0.1 \n",
      "\n",
      "PVT Output:\n",
      "z-factor                   : nan\n",
      "Density                    : nan lb/ft3\n",
      "FVF                        : nan res ft3/scf\n",
      "Isothermal compressibility : nan microsip\n",
      "Viscosity                  : nan cp\n"
     ]
    }
   ],
   "source": [
    "# INPUT\n",
    "pressure = 2010 # psi\n",
    "temp = 110 # Fahrenheit\n",
    "sg = 0.5 # specific gravity\n",
    "x_h2s = 0.07 # mole fraction of H2S in gas\n",
    "x_co2 = 0.1 # mole fraction of CO2 in gas\n",
    "\n",
    "#CALCUATION\n",
    "\n",
    "# calculate pseudoproperties using Sutton (1985), Wichert and Aziz (1972)\n",
    "P_pc, T_pc, P_pr, T_pr = gas_pseudoprops(temp, pressure, sg, x_h2s, x_co2)\n",
    "\n",
    "# calculate z-factor using Dranchuk-Aboukassem (1975)\n",
    "pseudo_rho, z_factor = gas_zfactor(T_pr, P_pr)\n",
    "\n",
    "# calculate density\n",
    "rhogas = gas_density(temp, pressure, sg, z_factor)\n",
    "\n",
    "# calculate gas FVF\n",
    "Bg = gas_fvf(z_factor, temp, pressure)\n",
    "\n",
    "# calculate isothermal compressibility using Trube (1957) and Mattar (1975)\n",
    "cgas = gas_compressibility(T_pr, P_pr, pseudo_rho, z_factor, P_pc)\n",
    "\n",
    "# calculate viscosity using Lee et al (1966)\n",
    "viscogas = gas_mu(temp, rhogas, sg)\n",
    "\n",
    "print('=== Gas PVT Correlation Calculator === \\n')\n",
    "print('Your Input:')\n",
    "print('Pressure                   : {} psia'.format(pressure))\n",
    "print('Temperature                : {} °F'.format(temp))\n",
    "print('Specific Gravity           : {}'.format(sg))\n",
    "print('H2S Mole Fraction          : {}'.format(x_h2s))\n",
    "print('CO2 Mole Fraction          : {} \\n'.format(x_co2))\n",
    "\n",
    "print('PVT Output:')\n",
    "print('z-factor                   : {}'.format(z_factor))\n",
    "print('Density                    : {} lb/ft3'.format(rhogas))\n",
    "print('FVF                        : {} res ft3/scf'.format(Bg))\n",
    "print('Isothermal compressibility : {} microsip'.format(cgas * 1E+6))\n",
    "print('Viscosity                  : {} cp'.format(viscogas))"
   ]
  },
  {
   "cell_type": "code",
   "execution_count": 5,
   "id": "142a024f",
   "metadata": {},
   "outputs": [
    {
     "name": "stdout",
     "output_type": "stream",
     "text": [
      "Help on function gas_pseudoprops in module pvtcorrelation:\n",
      "\n",
      "gas_pseudoprops(temp, pressure, sg, x_h2s, x_co2)\n",
      "    Calculate Gas Pseudo-critical and Pseudo-reduced Pressure and Temperature\n",
      "    * Pseudo-critical properties\n",
      "      For range: 0.57 < sg < 1.68\n",
      "      (Sutton, 1985)\n",
      "    * Pseudo-reduced properties\n",
      "      For range: x_h2s (mol%) < 0.738; x_co2 (mol%) < 0.544; 154 < p (psia) < 7026; 40 < temp (°F) < 300 (error 0.97%)\n",
      "      (Wichert and Aziz, 1972)\n",
      "\n"
     ]
    }
   ],
   "source": [
    "help(gas_pseudoprops)"
   ]
  },
  {
   "cell_type": "markdown",
   "id": "84489cd3",
   "metadata": {},
   "source": [
    "### FOR OIL\n",
    "- pressure: Pressure (psia)\n",
    "- temp: Temperature (°F)\n",
    "- sg: Specific gravity\n",
    "- Rsb: Solution gas-oil ratio at bubble-point pressure (scf/STB) (from PVT data)\n",
    "- api: Oil gravity (API)"
   ]
  },
  {
   "cell_type": "code",
   "execution_count": 6,
   "id": "2e2fa2a2",
   "metadata": {},
   "outputs": [
    {
     "name": "stdout",
     "output_type": "stream",
     "text": [
      "=== Oil PVT Correlation Calculator === \n",
      "\n",
      "Your Input:\n",
      "Pressure                     : 1900 psia\n",
      "Temperature                  : 220 °F\n",
      "Specific Gravity             : 0.8\n",
      "Gas-oil ratio @ Bubble-point : 500 scf/STB\n",
      "Oil gravity                  : 30 API \n",
      "\n",
      "PVT Output:\n",
      "Bubble-point Pressure        : 2650.3067919543523 psi\n",
      "Gas-oil ratio                : 347.44320213156914 scf/STB\n",
      "FVF                          : 1.2298060072933186 RB/STB\n",
      "Isothermal compressibility   : 33.100146317783555 microsip\n",
      "Viscosity                    : 0.7777699805921316 cp\n"
     ]
    }
   ],
   "source": [
    "#INPUT\n",
    "\n",
    "\n",
    "pressure = 1900 # psi\n",
    "temp = 220 # Fahrenheit\n",
    "sg = 0.8 # specific gravity\n",
    "Rsb = 500 # solution gas-oil ratio at bubble-point pressure (scf/STB) (from PVT data)\n",
    "api = 30 # oil gravity (API)\n",
    "\n",
    "\n",
    "#CALCULATOR\n",
    "\n",
    "\n",
    "# calculate bubble-point pressure using Vasquez and Beggs (1980)\n",
    "pbubble = oil_pbubble(Rsb, sg, api, temp)\n",
    "\n",
    "# calculate isothermal compressibility using Vazquez and Beggs (1980); McCain et al (1988)\n",
    "coil = oil_compressibility(pressure, pbubble, temp, api, Rsb, sg)\n",
    "\n",
    "# calculate FVF using Vazquez and Beggs (1980); Levitan and Murtha (1999)\n",
    "Bo = oil_fvf(pbubble, api, Rsb, sg, temp, pressure)\n",
    "\n",
    "# calculate gas-oil ratio using Vazquez and Beggs (1980)\n",
    "Rs = gasoilratio(pressure, pbubble, sg, api, temp, Rsb)\n",
    "\n",
    "# calculate gas-oil ratio using Vazquez and Beggs (1980); Beggs and Robinson (1975)\n",
    "viscooil = oil_mu(pressure, pbubble, sg, api, temp, Rs)\n",
    "\n",
    "print('=== Oil PVT Correlation Calculator === \\n')\n",
    "print('Your Input:')\n",
    "print('Pressure                     : {} psia'.format(pressure))\n",
    "print('Temperature                  : {} °F'.format(temp))\n",
    "print('Specific Gravity             : {}'.format(sg))\n",
    "print('Gas-oil ratio @ Bubble-point : {} scf/STB'.format(Rsb))\n",
    "print('Oil gravity                  : {} API \\n'.format(api))\n",
    "\n",
    "print('PVT Output:')\n",
    "print('Bubble-point Pressure        : {} psi'.format(pbubble))\n",
    "print('Gas-oil ratio                : {} scf/STB'.format(Rs))\n",
    "print('FVF                          : {} RB/STB'.format(Bo))\n",
    "print('Isothermal compressibility   : {} microsip'.format(coil * 1E+6))\n",
    "print('Viscosity                    : {} cp'.format(viscooil))"
   ]
  },
  {
   "cell_type": "markdown",
   "id": "20872553",
   "metadata": {},
   "source": [
    "### FOR WATER\n",
    "* pressure: Pressure (psia)\n",
    "* temp: Temperature (°F)\n",
    "* s: salinity (wt%)"
   ]
  },
  {
   "cell_type": "code",
   "execution_count": 7,
   "id": "04edb6ae",
   "metadata": {},
   "outputs": [
    {
     "name": "stdout",
     "output_type": "stream",
     "text": [
      "=== Water PVT Correlation Calculator === \n",
      "\n",
      "Your Input:\n",
      "Pressure                     : 3000 psia\n",
      "Temperature                  : 190 °F\n",
      "Salinity                     : 0.05 \n",
      "\n",
      "PVT Output:\n",
      "FVF                          : 1.0305404582765743 RB/STB\n",
      "Bubble-Point Pressure        : 9.327025034766681 psia\n",
      "Isothermal Compressibility   : 3.10200919229241 microsip\n",
      "Viscosity                    : 0.4326959802568671 cp\n"
     ]
    }
   ],
   "source": [
    "\n",
    "#INPUT\n",
    "\n",
    "\n",
    "pressure = 3000 # psi\n",
    "temp = 190 # Fahrenheit\n",
    "s = 5 # salinity, wt%\n",
    "\n",
    "\n",
    "#CALCULATOR\n",
    "\n",
    "\n",
    "# calculate water FVF using McCain et al (1989)\n",
    "Bw = water_fvf(temp, pressure)\n",
    "\n",
    "# calculate vapor (bubble-point) pressure using the classic Antoine (1888)\n",
    "pbubble = water_pbubble(temp)\n",
    "\n",
    "# calculate isothermal water compressibility using Osif (1988) and McCain (1989)\n",
    "cw = water_compressibility(temp, pressure, s, Bw)\n",
    "\n",
    "# calculate water viscosity using McCain (1989)\n",
    "mu_w = water_mu(temp, pressure, s)\n",
    "\n",
    "print('=== Water PVT Correlation Calculator === \\n')\n",
    "print('Your Input:')\n",
    "print('Pressure                     : {} psia'.format(pressure))\n",
    "print('Temperature                  : {} °F'.format(temp))\n",
    "print('Salinity                     : {} \\n'.format(s / 100))\n",
    "\n",
    "print('PVT Output:')\n",
    "print('FVF                          : {} RB/STB'.format(Bw))\n",
    "print('Bubble-Point Pressure        : {} psia'.format(pbubble))\n",
    "print('Isothermal Compressibility   : {} microsip'.format(cw * 1E+6))\n",
    "print('Viscosity                    : {} cp'.format(mu_w))"
   ]
  },
  {
   "cell_type": "code",
   "execution_count": null,
   "id": "2c46e948",
   "metadata": {},
   "outputs": [],
   "source": []
  }
 ],
 "metadata": {
  "kernelspec": {
   "display_name": "Python 3 (ipykernel)",
   "language": "python",
   "name": "python3"
  },
  "language_info": {
   "codemirror_mode": {
    "name": "ipython",
    "version": 3
   },
   "file_extension": ".py",
   "mimetype": "text/x-python",
   "name": "python",
   "nbconvert_exporter": "python",
   "pygments_lexer": "ipython3",
   "version": "3.9.7"
  }
 },
 "nbformat": 4,
 "nbformat_minor": 5
}
